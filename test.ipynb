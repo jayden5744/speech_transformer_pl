{
 "cells": [
  {
   "cell_type": "code",
   "execution_count": 2,
   "metadata": {},
   "outputs": [
    {
     "name": "stdout",
     "output_type": "stream",
     "text": [
      "phonetic :  b/ 칠 십 퍼센트 확률이라니 아/ 모+ 몬 소리야 진짜 백 프로가 왜 안돼? n/\n",
      "spelling :  b/ 70% 확률이라니 아/ 뭐+ 뭔 소리야 진짜 100%가 왜 안돼? n/\n"
     ]
    }
   ],
   "source": [
    "def bracket_filter(sentence: str, mode: str = 'phonetic') -> str:\n",
    "    # bracket 괄호를 제거 & phonetic or spelling 중 하나만 택\n",
    "    new_sentence = \"\"\n",
    "\n",
    "    if mode == \"phonetic\":\n",
    "        flag = False\n",
    "        for ch in sentence: \n",
    "            if ch == '(' and flag is False:\n",
    "                flag = True\n",
    "\n",
    "            elif ch == \"(\" and flag is True:\n",
    "                flag = False\n",
    "\n",
    "            elif ch != ')' and flag is False:\n",
    "                new_sentence += ch\n",
    "\n",
    "    elif mode == \"spelling\":\n",
    "        flag = True\n",
    "        for ch in sentence:\n",
    "            if ch == \"(\":\n",
    "                continue\n",
    "\n",
    "            elif ch == \")\" and flag is True:\n",
    "                flag = False \n",
    "\n",
    "            elif ch == \")\" and flag is False:\n",
    "                flag = True\n",
    "            \n",
    "            elif ch != ')' and flag is True:\n",
    "                new_sentence += ch\n",
    "\n",
    "    else:\n",
    "        raise ValueError(f\"Unsupported mode : {mode}\")\n",
    "\n",
    "    return new_sentence\n",
    "\n",
    "\n",
    "\n",
    "text = \"b/ (70%)/(칠 십 퍼센트) 확률이라니 아/ (뭐+ 뭔)/(모+ 몬) 소리야 진짜 (100%)(백 프로)가 왜 안돼? n/\"\n",
    "mode = \"phonetic\"\n",
    "print(mode, \": \", bracket_filter(text, mode))\n",
    "mode = \"spelling\"\n",
    "print(mode, \": \", bracket_filter(text, mode))"
   ]
  },
  {
   "cell_type": "code",
   "execution_count": null,
   "metadata": {},
   "outputs": [],
   "source": [
    "# 음성 칠 십 퍼센트 \n",
    "\n",
    "(70%)/(칠 십)"
   ]
  },
  {
   "cell_type": "code",
   "execution_count": 8,
   "metadata": {},
   "outputs": [
    {
     "name": "stdout",
     "output_type": "stream",
     "text": [
      "o/ 근데* 대부분 다 암 치료하는 환자들이 b/ 구십 몇 % 다 보니까 b/ 많이 아프신 분들 밖에 안 온단 말이야. b/\n",
      "phonetic :  근데 대부분 다 암 치료하는 환자들이 구십 몇 퍼센트 다 보니까 많이 아프신 분들 밖에 안 온단 말이야.\n",
      "o/ 근데* 대부분 다 암 치료하는 환자들이 b/ 90 몇 % 다 보니까 b/ 많이 아프신 분들 밖에 안 온단 말이야. b/\n",
      "spelling :  근데 대부분 다 암 치료하는 환자들이 90 몇 % 다 보니까 많이 아프신 분들 밖에 안 온단 말이야.\n"
     ]
    }
   ],
   "source": [
    "import re \n",
    "\n",
    "def special_filter(sentence: str, mode: str = 'phonetic', replace: str = None) -> str:\n",
    "    # 특수문자 제거 \n",
    "    # 숫자가 포함되어 있는 부분 어떻게 읽는지\n",
    "    print(sentence)\n",
    "    SENTENCE_MARK = ['?', '!', '.']\n",
    "    NOISE = ['o', 'n', 'u', 'b', 'l']\n",
    "    EXCEPT = ['/', '+', '*', '-', '@', '$', '^', '&', '[', ']', '=', ':', ';', ',']\n",
    "\n",
    "    new_sentence = \"\"\n",
    "\n",
    "    for idx, ch in enumerate(sentence):\n",
    "        if ch not in SENTENCE_MARK and idx+1 < len(sentence) and ch in NOISE and sentence[idx + 1] == \"/\":\n",
    "            # character가 sentence_mark에 포함되지 않고 idx가 마지막 character이고, ch가 노이즈이고, 마지막이 \"/\"이거 일때 무시\n",
    "            continue\n",
    "\n",
    "        if ch == \"#\":\n",
    "            new_sentence += \"샾\"\n",
    "\n",
    "        elif ch == \"%\":\n",
    "            if mode == \"phonetic\":\n",
    "                new_sentence += replace\n",
    "\n",
    "            else:\n",
    "                new_sentence += \"%\"\n",
    "\n",
    "        elif ch not in EXCEPT:\n",
    "            new_sentence += ch\n",
    "\n",
    "    pattern = re.compile(r'\\s\\s+')\n",
    "    new_sentence = re.sub(pattern, ' ', new_sentence.strip())\n",
    "    return new_sentence\n",
    "    \n",
    "\n",
    "# text = \"b/ (70%)/(칠 십 퍼센트) 확률이라니 아/ (뭐+ 뭔)/(모+ 몬) 소리야 진짜 (100%)(백 프로)가 왜 안돼? n/\"\n",
    "text = \"o/ 근데* 대부분 다 암 치료하는 환자들이 b/ (90)/(구십) 몇 % 다 보니까 b/ 많이 아프신 분들 밖에 안 온단 말이야. b/\"\n",
    "mode = \"phonetic\"\n",
    "print(mode, \": \", special_filter(bracket_filter(text, mode), mode, \"퍼센트\"))\n",
    "mode = \"spelling\"\n",
    "print(mode, \": \", special_filter(bracket_filter(text, mode), mode, ))"
   ]
  },
  {
   "cell_type": "code",
   "execution_count": 4,
   "metadata": {},
   "outputs": [],
   "source": [
    "from src.preprocess.preprocess import prepross_kspon\n",
    "output_unit = \"grapheme\"\n",
    "prepross_kspon(\n",
    "    dataset_path=\"./datasets/kspon/train\",\n",
    "    output_unit=output_unit,   # [character, subword, grapheme]\n",
    "    save_path=f\"./Vocabulary/kspon_{output_unit}\",\n",
    "    preprocess_mode=\"phonetic\", # [spelling, phonetic]\n",
    "    vocab_size=5000\n",
    ")"
   ]
  },
  {
   "cell_type": "code",
   "execution_count": 2,
   "metadata": {},
   "outputs": [
    {
     "data": {
      "text/plain": [
       "'1,2,3'"
      ]
     },
     "execution_count": 2,
     "metadata": {},
     "output_type": "execute_result"
    }
   ],
   "source": [
    "lst = [\"1\", \"2\", \"3\"]\n",
    "\n",
    "\",\".join(lst)"
   ]
  },
  {
   "cell_type": "code",
   "execution_count": 5,
   "metadata": {},
   "outputs": [
    {
     "data": {
      "text/plain": [
       "['ᄋ', 'ᅡ', 'ᆫ', 'ᄂ', 'ᅧ', 'ᆼ', 'ᄒ', 'ᅡ', 'ᄉ', 'ᅦ', 'ᄋ', 'ᅭ']"
      ]
     },
     "execution_count": 5,
     "metadata": {},
     "output_type": "execute_result"
    }
   ],
   "source": [
    "import unicodedata\n",
    "\n",
    "\n",
    "transcript = \"안녕하세요\"\n",
    "\" \".join(unicodedata.normalize('NFKD', transcript).replace(' ', '|')).upper().split()"
   ]
  },
  {
   "cell_type": "code",
   "execution_count": null,
   "metadata": {},
   "outputs": [],
   "source": []
  }
 ],
 "metadata": {
  "kernelspec": {
   "display_name": "Python 3.9.12 ('.venv': poetry)",
   "language": "python",
   "name": "python3"
  },
  "language_info": {
   "codemirror_mode": {
    "name": "ipython",
    "version": 3
   },
   "file_extension": ".py",
   "mimetype": "text/x-python",
   "name": "python",
   "nbconvert_exporter": "python",
   "pygments_lexer": "ipython3",
   "version": "3.9.12"
  },
  "orig_nbformat": 4,
  "vscode": {
   "interpreter": {
    "hash": "bf51b663fb3b1a060fe1e36339eeb4081b6813f6aa4400e6032593de2cadf53b"
   }
  }
 },
 "nbformat": 4,
 "nbformat_minor": 2
}
